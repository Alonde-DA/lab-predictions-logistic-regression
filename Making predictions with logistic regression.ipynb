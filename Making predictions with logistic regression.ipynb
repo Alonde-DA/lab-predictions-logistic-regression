{
 "cells": [
  {
   "cell_type": "code",
   "execution_count": 12,
   "id": "38727242",
   "metadata": {},
   "outputs": [
    {
     "name": "stdout",
     "output_type": "stream",
     "text": [
      "········\n"
     ]
    }
   ],
   "source": [
    "import pymysql\n",
    "from sqlalchemy import create_engine\n",
    "import pandas as pd\n",
    "import numpy as np\n",
    "import getpass\n",
    "import datetime\n",
    "import matplotlib.pyplot as plt\n",
    "import seaborn as sns\n",
    "from sklearn.model_selection import train_test_split\n",
    "from sklearn.linear_model import LogisticRegression\n",
    "from sklearn.metrics import confusion_matrix\n",
    "password = getpass.getpass()"
   ]
  },
  {
   "cell_type": "code",
   "execution_count": 13,
   "id": "d96fbc91",
   "metadata": {},
   "outputs": [],
   "source": [
    "sql_string = 'mysql+pymysql://root:' + password + '@localhost/sakila' #connecting to the SQL query \n",
    "engine = create_engine(sql_string)\n",
    "query1 = '''\n",
    "SELECT \n",
    "    film.rental_rate, r.rental_id, cat.name AS 'film_category'\n",
    "FROM\n",
    "    rental AS r\n",
    "        JOIN\n",
    "    inventory AS inv USING (inventory_id)\n",
    "        JOIN\n",
    "    film AS film USING (film_id)\n",
    "        JOIN\n",
    "    film_category AS ficat USING (film_id)\n",
    "        JOIN\n",
    "    category AS cat USING (category_id);\n",
    "    '''\n",
    "\n",
    "query2 = '''\n",
    "SELECT \n",
    "    films.title,\n",
    "    rentals.rental_id,\n",
    "    YEAR(rentals.rental_date) = 2006\n",
    "        AND MONTH(rentals.rental_date) = 2 AS 'rented_last_month',\n",
    "    rentals.rental_date\n",
    "FROM\n",
    "    sakila.film AS films\n",
    "        JOIN\n",
    "    sakila.inventory AS inv USING (film_id)\n",
    "        JOIN\n",
    "    sakila.rental AS rentals USING (inventory_id);\n",
    "      '''\n",
    "\n",
    "data = pd.read_sql_query(query1, engine) #Read the data into a Pandas dataframe\n",
    "data1 = pd.read_sql_query(query2, engine)\n",
    "\n"
   ]
  },
  {
   "cell_type": "code",
   "execution_count": 14,
   "id": "b54681ed",
   "metadata": {},
   "outputs": [
    {
     "data": {
      "text/html": [
       "<div>\n",
       "<style scoped>\n",
       "    .dataframe tbody tr th:only-of-type {\n",
       "        vertical-align: middle;\n",
       "    }\n",
       "\n",
       "    .dataframe tbody tr th {\n",
       "        vertical-align: top;\n",
       "    }\n",
       "\n",
       "    .dataframe thead th {\n",
       "        text-align: right;\n",
       "    }\n",
       "</style>\n",
       "<table border=\"1\" class=\"dataframe\">\n",
       "  <thead>\n",
       "    <tr style=\"text-align: right;\">\n",
       "      <th></th>\n",
       "      <th>title</th>\n",
       "      <th>rental_id</th>\n",
       "      <th>rented_last_month</th>\n",
       "      <th>rental_date</th>\n",
       "    </tr>\n",
       "  </thead>\n",
       "  <tbody>\n",
       "    <tr>\n",
       "      <th>0</th>\n",
       "      <td>ACADEMY DINOSAUR</td>\n",
       "      <td>4863</td>\n",
       "      <td>0</td>\n",
       "      <td>2005-07-08 19:03:15</td>\n",
       "    </tr>\n",
       "    <tr>\n",
       "      <th>1</th>\n",
       "      <td>ACADEMY DINOSAUR</td>\n",
       "      <td>11433</td>\n",
       "      <td>0</td>\n",
       "      <td>2005-08-02 20:13:10</td>\n",
       "    </tr>\n",
       "    <tr>\n",
       "      <th>2</th>\n",
       "      <td>ACADEMY DINOSAUR</td>\n",
       "      <td>14714</td>\n",
       "      <td>0</td>\n",
       "      <td>2005-08-21 21:27:43</td>\n",
       "    </tr>\n",
       "    <tr>\n",
       "      <th>3</th>\n",
       "      <td>ACADEMY DINOSAUR</td>\n",
       "      <td>16050</td>\n",
       "      <td>0</td>\n",
       "      <td>2023-05-27 14:45:04</td>\n",
       "    </tr>\n",
       "    <tr>\n",
       "      <th>4</th>\n",
       "      <td>ACADEMY DINOSAUR</td>\n",
       "      <td>972</td>\n",
       "      <td>0</td>\n",
       "      <td>2005-05-30 20:21:07</td>\n",
       "    </tr>\n",
       "    <tr>\n",
       "      <th>...</th>\n",
       "      <td>...</td>\n",
       "      <td>...</td>\n",
       "      <td>...</td>\n",
       "      <td>...</td>\n",
       "    </tr>\n",
       "    <tr>\n",
       "      <th>16040</th>\n",
       "      <td>ZORRO ARK</td>\n",
       "      <td>711</td>\n",
       "      <td>0</td>\n",
       "      <td>2005-05-29 03:49:03</td>\n",
       "    </tr>\n",
       "    <tr>\n",
       "      <th>16041</th>\n",
       "      <td>ZORRO ARK</td>\n",
       "      <td>1493</td>\n",
       "      <td>0</td>\n",
       "      <td>2005-06-15 21:50:32</td>\n",
       "    </tr>\n",
       "    <tr>\n",
       "      <th>16042</th>\n",
       "      <td>ZORRO ARK</td>\n",
       "      <td>6712</td>\n",
       "      <td>0</td>\n",
       "      <td>2005-07-12 13:24:47</td>\n",
       "    </tr>\n",
       "    <tr>\n",
       "      <th>16043</th>\n",
       "      <td>ZORRO ARK</td>\n",
       "      <td>9701</td>\n",
       "      <td>0</td>\n",
       "      <td>2005-07-31 07:32:21</td>\n",
       "    </tr>\n",
       "    <tr>\n",
       "      <th>16044</th>\n",
       "      <td>ZORRO ARK</td>\n",
       "      <td>12894</td>\n",
       "      <td>0</td>\n",
       "      <td>2005-08-19 03:49:28</td>\n",
       "    </tr>\n",
       "  </tbody>\n",
       "</table>\n",
       "<p>16045 rows × 4 columns</p>\n",
       "</div>"
      ],
      "text/plain": [
       "                  title  rental_id  rented_last_month         rental_date\n",
       "0      ACADEMY DINOSAUR       4863                  0 2005-07-08 19:03:15\n",
       "1      ACADEMY DINOSAUR      11433                  0 2005-08-02 20:13:10\n",
       "2      ACADEMY DINOSAUR      14714                  0 2005-08-21 21:27:43\n",
       "3      ACADEMY DINOSAUR      16050                  0 2023-05-27 14:45:04\n",
       "4      ACADEMY DINOSAUR        972                  0 2005-05-30 20:21:07\n",
       "...                 ...        ...                ...                 ...\n",
       "16040         ZORRO ARK        711                  0 2005-05-29 03:49:03\n",
       "16041         ZORRO ARK       1493                  0 2005-06-15 21:50:32\n",
       "16042         ZORRO ARK       6712                  0 2005-07-12 13:24:47\n",
       "16043         ZORRO ARK       9701                  0 2005-07-31 07:32:21\n",
       "16044         ZORRO ARK      12894                  0 2005-08-19 03:49:28\n",
       "\n",
       "[16045 rows x 4 columns]"
      ]
     },
     "execution_count": 14,
     "metadata": {},
     "output_type": "execute_result"
    }
   ],
   "source": [
    "data1"
   ]
  },
  {
   "cell_type": "code",
   "execution_count": 8,
   "id": "7da0cef1",
   "metadata": {},
   "outputs": [
    {
     "data": {
      "text/html": [
       "<div>\n",
       "<style scoped>\n",
       "    .dataframe tbody tr th:only-of-type {\n",
       "        vertical-align: middle;\n",
       "    }\n",
       "\n",
       "    .dataframe tbody tr th {\n",
       "        vertical-align: top;\n",
       "    }\n",
       "\n",
       "    .dataframe thead th {\n",
       "        text-align: right;\n",
       "    }\n",
       "</style>\n",
       "<table border=\"1\" class=\"dataframe\">\n",
       "  <thead>\n",
       "    <tr style=\"text-align: right;\">\n",
       "      <th></th>\n",
       "      <th>rental_rate</th>\n",
       "      <th>rental_id</th>\n",
       "      <th>film_category</th>\n",
       "    </tr>\n",
       "  </thead>\n",
       "  <tbody>\n",
       "    <tr>\n",
       "      <th>0</th>\n",
       "      <td>0.99</td>\n",
       "      <td>10895</td>\n",
       "      <td>Action</td>\n",
       "    </tr>\n",
       "    <tr>\n",
       "      <th>1</th>\n",
       "      <td>0.99</td>\n",
       "      <td>12268</td>\n",
       "      <td>Action</td>\n",
       "    </tr>\n",
       "    <tr>\n",
       "      <th>2</th>\n",
       "      <td>0.99</td>\n",
       "      <td>3150</td>\n",
       "      <td>Action</td>\n",
       "    </tr>\n",
       "    <tr>\n",
       "      <th>3</th>\n",
       "      <td>0.99</td>\n",
       "      <td>5072</td>\n",
       "      <td>Action</td>\n",
       "    </tr>\n",
       "    <tr>\n",
       "      <th>4</th>\n",
       "      <td>0.99</td>\n",
       "      <td>9080</td>\n",
       "      <td>Action</td>\n",
       "    </tr>\n",
       "    <tr>\n",
       "      <th>...</th>\n",
       "      <td>...</td>\n",
       "      <td>...</td>\n",
       "      <td>...</td>\n",
       "    </tr>\n",
       "    <tr>\n",
       "      <th>16040</th>\n",
       "      <td>4.99</td>\n",
       "      <td>962</td>\n",
       "      <td>Travel</td>\n",
       "    </tr>\n",
       "    <tr>\n",
       "      <th>16041</th>\n",
       "      <td>4.99</td>\n",
       "      <td>1292</td>\n",
       "      <td>Travel</td>\n",
       "    </tr>\n",
       "    <tr>\n",
       "      <th>16042</th>\n",
       "      <td>4.99</td>\n",
       "      <td>4108</td>\n",
       "      <td>Travel</td>\n",
       "    </tr>\n",
       "    <tr>\n",
       "      <th>16043</th>\n",
       "      <td>4.99</td>\n",
       "      <td>8871</td>\n",
       "      <td>Travel</td>\n",
       "    </tr>\n",
       "    <tr>\n",
       "      <th>16044</th>\n",
       "      <td>4.99</td>\n",
       "      <td>15488</td>\n",
       "      <td>Travel</td>\n",
       "    </tr>\n",
       "  </tbody>\n",
       "</table>\n",
       "<p>16045 rows × 3 columns</p>\n",
       "</div>"
      ],
      "text/plain": [
       "       rental_rate  rental_id film_category\n",
       "0             0.99      10895        Action\n",
       "1             0.99      12268        Action\n",
       "2             0.99       3150        Action\n",
       "3             0.99       5072        Action\n",
       "4             0.99       9080        Action\n",
       "...            ...        ...           ...\n",
       "16040         4.99        962        Travel\n",
       "16041         4.99       1292        Travel\n",
       "16042         4.99       4108        Travel\n",
       "16043         4.99       8871        Travel\n",
       "16044         4.99      15488        Travel\n",
       "\n",
       "[16045 rows x 3 columns]"
      ]
     },
     "execution_count": 8,
     "metadata": {},
     "output_type": "execute_result"
    }
   ],
   "source": [
    "data"
   ]
  },
  {
   "cell_type": "code",
   "execution_count": 15,
   "id": "c35c4913",
   "metadata": {},
   "outputs": [],
   "source": [
    "#Analyze extracted features and transform them. You may need to encode some categorical variables, or scale numerical variables."
   ]
  },
  {
   "cell_type": "code",
   "execution_count": 16,
   "id": "a7c0d3a3",
   "metadata": {},
   "outputs": [
    {
     "data": {
      "text/html": [
       "<div>\n",
       "<style scoped>\n",
       "    .dataframe tbody tr th:only-of-type {\n",
       "        vertical-align: middle;\n",
       "    }\n",
       "\n",
       "    .dataframe tbody tr th {\n",
       "        vertical-align: top;\n",
       "    }\n",
       "\n",
       "    .dataframe thead th {\n",
       "        text-align: right;\n",
       "    }\n",
       "</style>\n",
       "<table border=\"1\" class=\"dataframe\">\n",
       "  <thead>\n",
       "    <tr style=\"text-align: right;\">\n",
       "      <th></th>\n",
       "      <th>rental_rate</th>\n",
       "      <th>rental_id</th>\n",
       "    </tr>\n",
       "  </thead>\n",
       "  <tbody>\n",
       "    <tr>\n",
       "      <th>count</th>\n",
       "      <td>16045.000000</td>\n",
       "      <td>16045.000000</td>\n",
       "    </tr>\n",
       "    <tr>\n",
       "      <th>mean</th>\n",
       "      <td>2.942509</td>\n",
       "      <td>8025.871611</td>\n",
       "    </tr>\n",
       "    <tr>\n",
       "      <th>std</th>\n",
       "      <td>1.649698</td>\n",
       "      <td>4633.066013</td>\n",
       "    </tr>\n",
       "    <tr>\n",
       "      <th>min</th>\n",
       "      <td>0.990000</td>\n",
       "      <td>1.000000</td>\n",
       "    </tr>\n",
       "    <tr>\n",
       "      <th>25%</th>\n",
       "      <td>0.990000</td>\n",
       "      <td>4014.000000</td>\n",
       "    </tr>\n",
       "    <tr>\n",
       "      <th>50%</th>\n",
       "      <td>2.990000</td>\n",
       "      <td>8026.000000</td>\n",
       "    </tr>\n",
       "    <tr>\n",
       "      <th>75%</th>\n",
       "      <td>4.990000</td>\n",
       "      <td>12038.000000</td>\n",
       "    </tr>\n",
       "    <tr>\n",
       "      <th>max</th>\n",
       "      <td>4.990000</td>\n",
       "      <td>16050.000000</td>\n",
       "    </tr>\n",
       "  </tbody>\n",
       "</table>\n",
       "</div>"
      ],
      "text/plain": [
       "        rental_rate     rental_id\n",
       "count  16045.000000  16045.000000\n",
       "mean       2.942509   8025.871611\n",
       "std        1.649698   4633.066013\n",
       "min        0.990000      1.000000\n",
       "25%        0.990000   4014.000000\n",
       "50%        2.990000   8026.000000\n",
       "75%        4.990000  12038.000000\n",
       "max        4.990000  16050.000000"
      ]
     },
     "execution_count": 16,
     "metadata": {},
     "output_type": "execute_result"
    }
   ],
   "source": [
    "data.describe()"
   ]
  },
  {
   "cell_type": "code",
   "execution_count": 17,
   "id": "1a9b086c",
   "metadata": {},
   "outputs": [
    {
     "data": {
      "text/plain": [
       "rental_rate      float64\n",
       "rental_id          int64\n",
       "film_category     object\n",
       "dtype: object"
      ]
     },
     "execution_count": 17,
     "metadata": {},
     "output_type": "execute_result"
    }
   ],
   "source": [
    "data.dtypes"
   ]
  },
  {
   "cell_type": "code",
   "execution_count": 18,
   "id": "6eeeab92",
   "metadata": {},
   "outputs": [
    {
     "data": {
      "text/plain": [
       "<bound method DataFrame.info of        rental_rate  rental_id film_category\n",
       "0             0.99      10895        Action\n",
       "1             0.99      12268        Action\n",
       "2             0.99       3150        Action\n",
       "3             0.99       5072        Action\n",
       "4             0.99       9080        Action\n",
       "...            ...        ...           ...\n",
       "16040         4.99        962        Travel\n",
       "16041         4.99       1292        Travel\n",
       "16042         4.99       4108        Travel\n",
       "16043         4.99       8871        Travel\n",
       "16044         4.99      15488        Travel\n",
       "\n",
       "[16045 rows x 3 columns]>"
      ]
     },
     "execution_count": 18,
     "metadata": {},
     "output_type": "execute_result"
    }
   ],
   "source": [
    "data.info"
   ]
  },
  {
   "cell_type": "code",
   "execution_count": 19,
   "id": "683488a1",
   "metadata": {},
   "outputs": [
    {
     "data": {
      "text/plain": [
       "rental_rate      float64\n",
       "rental_id          int64\n",
       "film_category     object\n",
       "dtype: object"
      ]
     },
     "execution_count": 19,
     "metadata": {},
     "output_type": "execute_result"
    }
   ],
   "source": [
    "data.dtypes"
   ]
  },
  {
   "cell_type": "code",
   "execution_count": 20,
   "id": "19d9b5de",
   "metadata": {},
   "outputs": [
    {
     "data": {
      "text/plain": [
       "rental_rate      0\n",
       "rental_id        0\n",
       "film_category    0\n",
       "dtype: int64"
      ]
     },
     "execution_count": 20,
     "metadata": {},
     "output_type": "execute_result"
    }
   ],
   "source": [
    "data.isna().sum()"
   ]
  },
  {
   "cell_type": "code",
   "execution_count": 21,
   "id": "b06ee373",
   "metadata": {},
   "outputs": [],
   "source": [
    "#checking numerical and categorical values"
   ]
  },
  {
   "cell_type": "code",
   "execution_count": 22,
   "id": "5d486f90",
   "metadata": {},
   "outputs": [],
   "source": [
    "numeric = data.select_dtypes(include = np.number)"
   ]
  },
  {
   "cell_type": "code",
   "execution_count": 23,
   "id": "96484651",
   "metadata": {},
   "outputs": [
    {
     "data": {
      "text/plain": [
       "rental_rate    0\n",
       "rental_id      0\n",
       "dtype: int64"
      ]
     },
     "execution_count": 23,
     "metadata": {},
     "output_type": "execute_result"
    }
   ],
   "source": [
    "numeric.isna().sum()"
   ]
  },
  {
   "cell_type": "code",
   "execution_count": 24,
   "id": "c5bee504",
   "metadata": {},
   "outputs": [
    {
     "data": {
      "text/html": [
       "<div>\n",
       "<style scoped>\n",
       "    .dataframe tbody tr th:only-of-type {\n",
       "        vertical-align: middle;\n",
       "    }\n",
       "\n",
       "    .dataframe tbody tr th {\n",
       "        vertical-align: top;\n",
       "    }\n",
       "\n",
       "    .dataframe thead th {\n",
       "        text-align: right;\n",
       "    }\n",
       "</style>\n",
       "<table border=\"1\" class=\"dataframe\">\n",
       "  <thead>\n",
       "    <tr style=\"text-align: right;\">\n",
       "      <th></th>\n",
       "      <th>film_category</th>\n",
       "    </tr>\n",
       "  </thead>\n",
       "  <tbody>\n",
       "    <tr>\n",
       "      <th>0</th>\n",
       "      <td>Action</td>\n",
       "    </tr>\n",
       "    <tr>\n",
       "      <th>1</th>\n",
       "      <td>Action</td>\n",
       "    </tr>\n",
       "    <tr>\n",
       "      <th>2</th>\n",
       "      <td>Action</td>\n",
       "    </tr>\n",
       "    <tr>\n",
       "      <th>3</th>\n",
       "      <td>Action</td>\n",
       "    </tr>\n",
       "    <tr>\n",
       "      <th>4</th>\n",
       "      <td>Action</td>\n",
       "    </tr>\n",
       "  </tbody>\n",
       "</table>\n",
       "</div>"
      ],
      "text/plain": [
       "  film_category\n",
       "0        Action\n",
       "1        Action\n",
       "2        Action\n",
       "3        Action\n",
       "4        Action"
      ]
     },
     "execution_count": 24,
     "metadata": {},
     "output_type": "execute_result"
    }
   ],
   "source": [
    "categorical = data.select_dtypes(include = object)\n",
    "categorical.head()"
   ]
  },
  {
   "cell_type": "code",
   "execution_count": 25,
   "id": "1d435f48",
   "metadata": {},
   "outputs": [
    {
     "data": {
      "text/plain": [
       "film_category    0\n",
       "dtype: int64"
      ]
     },
     "execution_count": 25,
     "metadata": {},
     "output_type": "execute_result"
    }
   ],
   "source": [
    "categorical.isna().sum()"
   ]
  },
  {
   "cell_type": "code",
   "execution_count": 44,
   "id": "57fe735d",
   "metadata": {},
   "outputs": [
    {
     "data": {
      "text/html": [
       "<div>\n",
       "<style scoped>\n",
       "    .dataframe tbody tr th:only-of-type {\n",
       "        vertical-align: middle;\n",
       "    }\n",
       "\n",
       "    .dataframe tbody tr th {\n",
       "        vertical-align: top;\n",
       "    }\n",
       "\n",
       "    .dataframe thead th {\n",
       "        text-align: right;\n",
       "    }\n",
       "</style>\n",
       "<table border=\"1\" class=\"dataframe\">\n",
       "  <thead>\n",
       "    <tr style=\"text-align: right;\">\n",
       "      <th></th>\n",
       "      <th>title</th>\n",
       "      <th>length</th>\n",
       "      <th>rating</th>\n",
       "      <th>avg_price</th>\n",
       "      <th>total_rented</th>\n",
       "      <th>max_rental_date</th>\n",
       "      <th>name</th>\n",
       "      <th>rental_month</th>\n",
       "      <th>rental_year</th>\n",
       "    </tr>\n",
       "  </thead>\n",
       "  <tbody>\n",
       "    <tr>\n",
       "      <th>0</th>\n",
       "      <td>AMADEUS HOLY</td>\n",
       "      <td>89</td>\n",
       "      <td>PG</td>\n",
       "      <td>1.609048</td>\n",
       "      <td>21</td>\n",
       "      <td>2006-02-14 15:16:03</td>\n",
       "      <td>Action</td>\n",
       "      <td>2</td>\n",
       "      <td>2006</td>\n",
       "    </tr>\n",
       "    <tr>\n",
       "      <th>1</th>\n",
       "      <td>AMERICAN CIRCUS</td>\n",
       "      <td>99</td>\n",
       "      <td>R</td>\n",
       "      <td>7.626364</td>\n",
       "      <td>22</td>\n",
       "      <td>2006-02-14 15:16:03</td>\n",
       "      <td>Action</td>\n",
       "      <td>2</td>\n",
       "      <td>2006</td>\n",
       "    </tr>\n",
       "    <tr>\n",
       "      <th>2</th>\n",
       "      <td>BERETS AGENT</td>\n",
       "      <td>90</td>\n",
       "      <td>PG-13</td>\n",
       "      <td>3.751429</td>\n",
       "      <td>21</td>\n",
       "      <td>2006-02-14 15:16:03</td>\n",
       "      <td>Action</td>\n",
       "      <td>2</td>\n",
       "      <td>2006</td>\n",
       "    </tr>\n",
       "    <tr>\n",
       "      <th>3</th>\n",
       "      <td>BULL SHAWSHANK</td>\n",
       "      <td>93</td>\n",
       "      <td>NC-17</td>\n",
       "      <td>1.365000</td>\n",
       "      <td>16</td>\n",
       "      <td>2006-02-14 15:16:03</td>\n",
       "      <td>Action</td>\n",
       "      <td>2</td>\n",
       "      <td>2006</td>\n",
       "    </tr>\n",
       "    <tr>\n",
       "      <th>4</th>\n",
       "      <td>DANCES NONE</td>\n",
       "      <td>100</td>\n",
       "      <td>NC-17</td>\n",
       "      <td>2.275714</td>\n",
       "      <td>14</td>\n",
       "      <td>2006-02-14 15:16:03</td>\n",
       "      <td>Action</td>\n",
       "      <td>2</td>\n",
       "      <td>2006</td>\n",
       "    </tr>\n",
       "    <tr>\n",
       "      <th>...</th>\n",
       "      <td>...</td>\n",
       "      <td>...</td>\n",
       "      <td>...</td>\n",
       "      <td>...</td>\n",
       "      <td>...</td>\n",
       "      <td>...</td>\n",
       "      <td>...</td>\n",
       "      <td>...</td>\n",
       "      <td>...</td>\n",
       "    </tr>\n",
       "    <tr>\n",
       "      <th>953</th>\n",
       "      <td>IMPACT ALADDIN</td>\n",
       "      <td>98</td>\n",
       "      <td>PG-13</td>\n",
       "      <td>2.323333</td>\n",
       "      <td>9</td>\n",
       "      <td>2005-08-18 03:37:31</td>\n",
       "      <td>Music</td>\n",
       "      <td>8</td>\n",
       "      <td>2005</td>\n",
       "    </tr>\n",
       "    <tr>\n",
       "      <th>954</th>\n",
       "      <td>TOWERS HURRICANE</td>\n",
       "      <td>85</td>\n",
       "      <td>NC-17</td>\n",
       "      <td>1.171818</td>\n",
       "      <td>11</td>\n",
       "      <td>2005-08-18 02:37:07</td>\n",
       "      <td>Classics</td>\n",
       "      <td>8</td>\n",
       "      <td>2005</td>\n",
       "    </tr>\n",
       "    <tr>\n",
       "      <th>955</th>\n",
       "      <td>HOOSIERS BIRDCAGE</td>\n",
       "      <td>103</td>\n",
       "      <td>G</td>\n",
       "      <td>5.240000</td>\n",
       "      <td>8</td>\n",
       "      <td>2005-08-18 00:14:03</td>\n",
       "      <td>Foreign</td>\n",
       "      <td>8</td>\n",
       "      <td>2005</td>\n",
       "    </tr>\n",
       "    <tr>\n",
       "      <th>956</th>\n",
       "      <td>PAPI NECKLACE</td>\n",
       "      <td>84</td>\n",
       "      <td>PG</td>\n",
       "      <td>3.615000</td>\n",
       "      <td>8</td>\n",
       "      <td>2005-08-17 17:16:42</td>\n",
       "      <td>Travel</td>\n",
       "      <td>8</td>\n",
       "      <td>2005</td>\n",
       "    </tr>\n",
       "    <tr>\n",
       "      <th>957</th>\n",
       "      <td>GRACELAND DYNAMITE</td>\n",
       "      <td>92</td>\n",
       "      <td>R</td>\n",
       "      <td>6.323333</td>\n",
       "      <td>6</td>\n",
       "      <td>2005-08-17 07:46:54</td>\n",
       "      <td>Sports</td>\n",
       "      <td>8</td>\n",
       "      <td>2005</td>\n",
       "    </tr>\n",
       "  </tbody>\n",
       "</table>\n",
       "<p>958 rows × 9 columns</p>\n",
       "</div>"
      ],
      "text/plain": [
       "                  title  length rating  avg_price  total_rented  \\\n",
       "0          AMADEUS HOLY      89     PG   1.609048            21   \n",
       "1       AMERICAN CIRCUS      99      R   7.626364            22   \n",
       "2          BERETS AGENT      90  PG-13   3.751429            21   \n",
       "3        BULL SHAWSHANK      93  NC-17   1.365000            16   \n",
       "4           DANCES NONE     100  NC-17   2.275714            14   \n",
       "..                  ...     ...    ...        ...           ...   \n",
       "953      IMPACT ALADDIN      98  PG-13   2.323333             9   \n",
       "954    TOWERS HURRICANE      85  NC-17   1.171818            11   \n",
       "955   HOOSIERS BIRDCAGE     103      G   5.240000             8   \n",
       "956       PAPI NECKLACE      84     PG   3.615000             8   \n",
       "957  GRACELAND DYNAMITE      92      R   6.323333             6   \n",
       "\n",
       "        max_rental_date      name  rental_month  rental_year  \n",
       "0   2006-02-14 15:16:03    Action             2         2006  \n",
       "1   2006-02-14 15:16:03    Action             2         2006  \n",
       "2   2006-02-14 15:16:03    Action             2         2006  \n",
       "3   2006-02-14 15:16:03    Action             2         2006  \n",
       "4   2006-02-14 15:16:03    Action             2         2006  \n",
       "..                  ...       ...           ...          ...  \n",
       "953 2005-08-18 03:37:31     Music             8         2005  \n",
       "954 2005-08-18 02:37:07  Classics             8         2005  \n",
       "955 2005-08-18 00:14:03   Foreign             8         2005  \n",
       "956 2005-08-17 17:16:42    Travel             8         2005  \n",
       "957 2005-08-17 07:46:54    Sports             8         2005  \n",
       "\n",
       "[958 rows x 9 columns]"
      ]
     },
     "execution_count": 44,
     "metadata": {},
     "output_type": "execute_result"
    }
   ],
   "source": [
    "#extracting date and month\n",
    "data['rental_month'] = pd.DatetimeIndex(data['max_rental_date']).month\n",
    "data['rental_year'] = pd.DatetimeIndex(data['max_rental_date']).year\n",
    "data"
   ]
  },
  {
   "cell_type": "code",
   "execution_count": 26,
   "id": "4759c73a",
   "metadata": {},
   "outputs": [],
   "source": [
    "#checking correlation "
   ]
  },
  {
   "cell_type": "code",
   "execution_count": 58,
   "id": "38db54e0",
   "metadata": {},
   "outputs": [
    {
     "name": "stderr",
     "output_type": "stream",
     "text": [
      "C:\\Users\\a_del\\AppData\\Local\\Temp\\ipykernel_864\\187203700.py:1: FutureWarning: The default value of numeric_only in DataFrame.corr is deprecated. In a future version, it will default to False. Select only valid columns or specify the value of numeric_only to silence this warning.\n",
      "  corr_matrix=data.corr(method='pearson')\n"
     ]
    },
    {
     "data": {
      "image/png": "[encoded data removed]",
      "text/plain": [
       "<Figure size 1000x800 with 2 Axes>"
      ]
     },
     "metadata": {},
     "output_type": "display_data"
    }
   ],
   "source": [
    "corr_matrix=data.corr(method='pearson') \n",
    "fig, ax = plt.subplots(figsize=(10, 8))\n",
    "ax = sns.heatmap(corr_matrix, annot=True)\n",
    "plt.show()"
   ]
  },
  {
   "cell_type": "code",
   "execution_count": null,
   "id": "60d6a79f",
   "metadata": {},
   "outputs": [],
   "source": [
    "##Create a query (already did at the beginning) to get the list of films and a boolean indicating if it was rented last month. \n",
    "#This would be our target variable."
   ]
  },
  {
   "cell_type": "code",
   "execution_count": 27,
   "id": "02684c27",
   "metadata": {},
   "outputs": [],
   "source": [
    "data2 = pd.concat([data1,data],axis=1) #merging the dataframes "
   ]
  },
  {
   "cell_type": "code",
   "execution_count": 28,
   "id": "9d986f8d",
   "metadata": {},
   "outputs": [
    {
     "data": {
      "text/html": [
       "<div>\n",
       "<style scoped>\n",
       "    .dataframe tbody tr th:only-of-type {\n",
       "        vertical-align: middle;\n",
       "    }\n",
       "\n",
       "    .dataframe tbody tr th {\n",
       "        vertical-align: top;\n",
       "    }\n",
       "\n",
       "    .dataframe thead th {\n",
       "        text-align: right;\n",
       "    }\n",
       "</style>\n",
       "<table border=\"1\" class=\"dataframe\">\n",
       "  <thead>\n",
       "    <tr style=\"text-align: right;\">\n",
       "      <th></th>\n",
       "      <th>title</th>\n",
       "      <th>rental_id</th>\n",
       "      <th>rented_last_month</th>\n",
       "      <th>rental_rate</th>\n",
       "      <th>rental_id</th>\n",
       "      <th>film_category</th>\n",
       "    </tr>\n",
       "  </thead>\n",
       "  <tbody>\n",
       "    <tr>\n",
       "      <th>0</th>\n",
       "      <td>ACADEMY DINOSAUR</td>\n",
       "      <td>4863</td>\n",
       "      <td>False</td>\n",
       "      <td>0.99</td>\n",
       "      <td>10895</td>\n",
       "      <td>Action</td>\n",
       "    </tr>\n",
       "    <tr>\n",
       "      <th>1</th>\n",
       "      <td>ACADEMY DINOSAUR</td>\n",
       "      <td>11433</td>\n",
       "      <td>False</td>\n",
       "      <td>0.99</td>\n",
       "      <td>12268</td>\n",
       "      <td>Action</td>\n",
       "    </tr>\n",
       "    <tr>\n",
       "      <th>2</th>\n",
       "      <td>ACADEMY DINOSAUR</td>\n",
       "      <td>14714</td>\n",
       "      <td>False</td>\n",
       "      <td>0.99</td>\n",
       "      <td>3150</td>\n",
       "      <td>Action</td>\n",
       "    </tr>\n",
       "    <tr>\n",
       "      <th>3</th>\n",
       "      <td>ACADEMY DINOSAUR</td>\n",
       "      <td>16050</td>\n",
       "      <td>False</td>\n",
       "      <td>0.99</td>\n",
       "      <td>5072</td>\n",
       "      <td>Action</td>\n",
       "    </tr>\n",
       "    <tr>\n",
       "      <th>4</th>\n",
       "      <td>ACADEMY DINOSAUR</td>\n",
       "      <td>972</td>\n",
       "      <td>False</td>\n",
       "      <td>0.99</td>\n",
       "      <td>9080</td>\n",
       "      <td>Action</td>\n",
       "    </tr>\n",
       "  </tbody>\n",
       "</table>\n",
       "</div>"
      ],
      "text/plain": [
       "              title  rental_id  rented_last_month  rental_rate  rental_id  \\\n",
       "0  ACADEMY DINOSAUR       4863              False         0.99      10895   \n",
       "1  ACADEMY DINOSAUR      11433              False         0.99      12268   \n",
       "2  ACADEMY DINOSAUR      14714              False         0.99       3150   \n",
       "3  ACADEMY DINOSAUR      16050              False         0.99       5072   \n",
       "4  ACADEMY DINOSAUR        972              False         0.99       9080   \n",
       "\n",
       "  film_category  \n",
       "0        Action  \n",
       "1        Action  \n",
       "2        Action  \n",
       "3        Action  \n",
       "4        Action  "
      ]
     },
     "execution_count": 28,
     "metadata": {},
     "output_type": "execute_result"
    }
   ],
   "source": [
    "data2 = data2.drop('rental_date', axis=1)\n",
    "data2['rented_last_month'] = data2['rented_last_month'].astype(bool)\n",
    "data2.head() #changing the values for 'rented_last_month' to boolean as we will need later "
   ]
  },
  {
   "cell_type": "code",
   "execution_count": 29,
   "id": "30f7b0ad",
   "metadata": {},
   "outputs": [],
   "source": [
    "data2 = data2.drop('rental_id', axis=1)"
   ]
  },
  {
   "cell_type": "code",
   "execution_count": 30,
   "id": "08f3502a",
   "metadata": {},
   "outputs": [],
   "source": [
    "#Create a logistic regression model to predict this variable from the cleaned data."
   ]
  },
  {
   "cell_type": "code",
   "execution_count": 33,
   "id": "58ebe9ba",
   "metadata": {},
   "outputs": [],
   "source": [
    "X = pd.get_dummies(data2.drop('rented_last_month', axis=1))\n",
    "\n",
    "Y = data2['rented_last_month']\n",
    "\n",
    "X_train, X_test, y_train, y_test = train_test_split(X, Y, test_size = 0.3)\n",
    "\n",
    "\n",
    "\n",
    "\n"
   ]
  },
  {
   "cell_type": "code",
   "execution_count": 34,
   "id": "84dd7f55",
   "metadata": {},
   "outputs": [
    {
     "data": {
      "text/html": [
       "<style>#sk-container-id-1 {color: black;background-color: white;}#sk-container-id-1 pre{padding: 0;}#sk-container-id-1 div.sk-toggleable {background-color: white;}#sk-container-id-1 label.sk-toggleable__label {cursor: pointer;display: block;width: 100%;margin-bottom: 0;padding: 0.3em;box-sizing: border-box;text-align: center;}#sk-container-id-1 label.sk-toggleable__label-arrow:before {content: \"▸\";float: left;margin-right: 0.25em;color: #696969;}#sk-container-id-1 label.sk-toggleable__label-arrow:hover:before {color: black;}#sk-container-id-1 div.sk-estimator:hover label.sk-toggleable__label-arrow:before {color: black;}#sk-container-id-1 div.sk-toggleable__content {max-height: 0;max-width: 0;overflow: hidden;text-align: left;background-color: #f0f8ff;}#sk-container-id-1 div.sk-toggleable__content pre {margin: 0.2em;color: black;border-radius: 0.25em;background-color: #f0f8ff;}#sk-container-id-1 input.sk-toggleable__control:checked~div.sk-toggleable__content {max-height: 200px;max-width: 100%;overflow: auto;}#sk-container-id-1 input.sk-toggleable__control:checked~label.sk-toggleable__label-arrow:before {content: \"▾\";}#sk-container-id-1 div.sk-estimator input.sk-toggleable__control:checked~label.sk-toggleable__label {background-color: #d4ebff;}#sk-container-id-1 div.sk-label input.sk-toggleable__control:checked~label.sk-toggleable__label {background-color: #d4ebff;}#sk-container-id-1 input.sk-hidden--visually {border: 0;clip: rect(1px 1px 1px 1px);clip: rect(1px, 1px, 1px, 1px);height: 1px;margin: -1px;overflow: hidden;padding: 0;position: absolute;width: 1px;}#sk-container-id-1 div.sk-estimator {font-family: monospace;background-color: #f0f8ff;border: 1px dotted black;border-radius: 0.25em;box-sizing: border-box;margin-bottom: 0.5em;}#sk-container-id-1 div.sk-estimator:hover {background-color: #d4ebff;}#sk-container-id-1 div.sk-parallel-item::after {content: \"\";width: 100%;border-bottom: 1px solid gray;flex-grow: 1;}#sk-container-id-1 div.sk-label:hover label.sk-toggleable__label {background-color: #d4ebff;}#sk-container-id-1 div.sk-serial::before {content: \"\";position: absolute;border-left: 1px solid gray;box-sizing: border-box;top: 0;bottom: 0;left: 50%;z-index: 0;}#sk-container-id-1 div.sk-serial {display: flex;flex-direction: column;align-items: center;background-color: white;padding-right: 0.2em;padding-left: 0.2em;position: relative;}#sk-container-id-1 div.sk-item {position: relative;z-index: 1;}#sk-container-id-1 div.sk-parallel {display: flex;align-items: stretch;justify-content: center;background-color: white;position: relative;}#sk-container-id-1 div.sk-item::before, #sk-container-id-1 div.sk-parallel-item::before {content: \"\";position: absolute;border-left: 1px solid gray;box-sizing: border-box;top: 0;bottom: 0;left: 50%;z-index: -1;}#sk-container-id-1 div.sk-parallel-item {display: flex;flex-direction: column;z-index: 1;position: relative;background-color: white;}#sk-container-id-1 div.sk-parallel-item:first-child::after {align-self: flex-end;width: 50%;}#sk-container-id-1 div.sk-parallel-item:last-child::after {align-self: flex-start;width: 50%;}#sk-container-id-1 div.sk-parallel-item:only-child::after {width: 0;}#sk-container-id-1 div.sk-dashed-wrapped {border: 1px dashed gray;margin: 0 0.4em 0.5em 0.4em;box-sizing: border-box;padding-bottom: 0.4em;background-color: white;}#sk-container-id-1 div.sk-label label {font-family: monospace;font-weight: bold;display: inline-block;line-height: 1.2em;}#sk-container-id-1 div.sk-label-container {text-align: center;}#sk-container-id-1 div.sk-container {/* jupyter's `normalize.less` sets `[hidden] { display: none; }` but bootstrap.min.css set `[hidden] { display: none !important; }` so we also need the `!important` here to be able to override the default hidden behavior on the sphinx rendered scikit-learn.org. See: https://github.com/scikit-learn/scikit-learn/issues/21755 */display: inline-block !important;position: relative;}#sk-container-id-1 div.sk-text-repr-fallback {display: none;}</style><div id=\"sk-container-id-1\" class=\"sk-top-container\"><div class=\"sk-text-repr-fallback\"><pre>LogisticRegression()</pre><b>In a Jupyter environment, please rerun this cell to show the HTML representation or trust the notebook. <br />On GitHub, the HTML representation is unable to render, please try loading this page with nbviewer.org.</b></div><div class=\"sk-container\" hidden><div class=\"sk-item\"><div class=\"sk-estimator sk-toggleable\"><input class=\"sk-toggleable__control sk-hidden--visually\" id=\"sk-estimator-id-1\" type=\"checkbox\" checked><label for=\"sk-estimator-id-1\" class=\"sk-toggleable__label sk-toggleable__label-arrow\">LogisticRegression</label><div class=\"sk-toggleable__content\"><pre>LogisticRegression()</pre></div></div></div></div></div>"
      ],
      "text/plain": [
       "LogisticRegression()"
      ]
     },
     "execution_count": 34,
     "metadata": {},
     "output_type": "execute_result"
    }
   ],
   "source": [
    "model = LogisticRegression()\n",
    "model.fit(X_train, y_train)"
   ]
  },
  {
   "cell_type": "code",
   "execution_count": null,
   "id": "7930b172",
   "metadata": {},
   "outputs": [],
   "source": [
    "#Evaluate the results"
   ]
  },
  {
   "cell_type": "code",
   "execution_count": 35,
   "id": "14a48b5d",
   "metadata": {},
   "outputs": [
    {
     "data": {
      "text/plain": [
       "0.987120897382634"
      ]
     },
     "execution_count": 35,
     "metadata": {},
     "output_type": "execute_result"
    }
   ],
   "source": [
    "classification.score(X_test, y_test)"
   ]
  },
  {
   "cell_type": "code",
   "execution_count": null,
   "id": "eeab9917",
   "metadata": {},
   "outputs": [],
   "source": []
  }
 ],
 "metadata": {
  "kernelspec": {
   "display_name": "Python 3 (ipykernel)",
   "language": "python",
   "name": "python3"
  },
  "language_info": {
   "codemirror_mode": {
    "name": "ipython",
    "version": 3
   },
   "file_extension": ".py",
   "mimetype": "text/x-python",
   "name": "python",
   "nbconvert_exporter": "python",
   "pygments_lexer": "ipython3",
   "version": "3.10.9"
  }
 },
 "nbformat": 4,
 "nbformat_minor": 5
}
